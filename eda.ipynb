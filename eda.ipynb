{
 "cells": [
  {
   "cell_type": "code",
   "execution_count": 4,
   "id": "7c030c29-0006-418a-854c-21c4bd12a382",
   "metadata": {},
   "outputs": [],
   "source": [
    "# Perfoming eda to the dataset is needed to understand its behaviour\n"
   ]
  },
  {
   "cell_type": "code",
   "execution_count": 4,
   "id": "48faf58c-98bc-469c-b41a-79516385cd18",
   "metadata": {},
   "outputs": [],
   "source": [
    "# import the library\n",
    "import pandas as pd\n"
   ]
  },
  {
   "cell_type": "code",
   "execution_count": 5,
   "id": "ca308ad0-5f0c-487a-a866-4db0409ddda9",
   "metadata": {},
   "outputs": [],
   "source": [
    "# Read data into Python\n",
    "education = pd.read_csv(r\"D:\\kumar\\learning code\\eda\\Data Sets\\education.csv\")\n"
   ]
  },
  {
   "cell_type": "code",
   "execution_count": 6,
   "id": "a7cf9519-611e-453c-a2d6-614be02a0d60",
   "metadata": {},
   "outputs": [
    {
     "name": "stdout",
     "output_type": "stream",
     "text": [
      "<class 'pandas.core.frame.DataFrame'>\n",
      "RangeIndex: 773 entries, 0 to 772\n",
      "Data columns (total 3 columns):\n",
      " #   Column    Non-Null Count  Dtype\n",
      "---  ------    --------------  -----\n",
      " 0   datasrno  773 non-null    int64\n",
      " 1   workex    773 non-null    int64\n",
      " 2   gmat      773 non-null    int64\n",
      "dtypes: int64(3)\n",
      "memory usage: 18.2 KB\n"
     ]
    }
   ],
   "source": [
    "#check the info of the dataset know simple information\n",
    "education.info()"
   ]
  },
  {
   "cell_type": "code",
   "execution_count": 7,
   "id": "a368ef2e-035f-4ede-889e-957f7d7db9f7",
   "metadata": {},
   "outputs": [
    {
     "data": {
      "text/html": [
       "<div>\n",
       "<style scoped>\n",
       "    .dataframe tbody tr th:only-of-type {\n",
       "        vertical-align: middle;\n",
       "    }\n",
       "\n",
       "    .dataframe tbody tr th {\n",
       "        vertical-align: top;\n",
       "    }\n",
       "\n",
       "    .dataframe thead th {\n",
       "        text-align: right;\n",
       "    }\n",
       "</style>\n",
       "<table border=\"1\" class=\"dataframe\">\n",
       "  <thead>\n",
       "    <tr style=\"text-align: right;\">\n",
       "      <th></th>\n",
       "      <th>datasrno</th>\n",
       "      <th>workex</th>\n",
       "      <th>gmat</th>\n",
       "    </tr>\n",
       "  </thead>\n",
       "  <tbody>\n",
       "    <tr>\n",
       "      <th>0</th>\n",
       "      <td>1</td>\n",
       "      <td>21</td>\n",
       "      <td>720</td>\n",
       "    </tr>\n",
       "    <tr>\n",
       "      <th>1</th>\n",
       "      <td>2</td>\n",
       "      <td>107</td>\n",
       "      <td>640</td>\n",
       "    </tr>\n",
       "    <tr>\n",
       "      <th>2</th>\n",
       "      <td>3</td>\n",
       "      <td>57</td>\n",
       "      <td>740</td>\n",
       "    </tr>\n",
       "    <tr>\n",
       "      <th>3</th>\n",
       "      <td>4</td>\n",
       "      <td>99</td>\n",
       "      <td>690</td>\n",
       "    </tr>\n",
       "    <tr>\n",
       "      <th>4</th>\n",
       "      <td>5</td>\n",
       "      <td>208</td>\n",
       "      <td>710</td>\n",
       "    </tr>\n",
       "  </tbody>\n",
       "</table>\n",
       "</div>"
      ],
      "text/plain": [
       "   datasrno  workex  gmat\n",
       "0         1      21   720\n",
       "1         2     107   640\n",
       "2         3      57   740\n",
       "3         4      99   690\n",
       "4         5     208   710"
      ]
     },
     "execution_count": 7,
     "metadata": {},
     "output_type": "execute_result"
    }
   ],
   "source": [
    "# see the first 5 rows to know how the data is\n",
    "education.head()"
   ]
  },
  {
   "cell_type": "code",
   "execution_count": 8,
   "id": "27e77302-e63c-4d65-af3e-c68f5189c822",
   "metadata": {},
   "outputs": [
    {
     "name": "stdout",
     "output_type": "stream",
     "text": [
      "57.501940491591206\n",
      "52.0\n",
      "0    45\n",
      "Name: workex, dtype: int64\n"
     ]
    }
   ],
   "source": [
    "#eda first business moment , measure of central tendancy\n",
    "print(education.workex.mean())\n",
    "print(education.workex.median())\n",
    "print(education.workex.mode())\n"
   ]
  },
  {
   "cell_type": "code",
   "execution_count": 9,
   "id": "1fdc56fa-0d27-4990-a0ad-b5c016564ef6",
   "metadata": {},
   "outputs": [],
   "source": [
    "# get the mode from another library scipy(scientific calc)\n",
    "from scipy import stats"
   ]
  },
  {
   "cell_type": "code",
   "execution_count": 10,
   "id": "a3b0e877-dc33-4c07-8b49-e64189dc8ef8",
   "metadata": {},
   "outputs": [
    {
     "data": {
      "text/plain": [
       "ModeResult(mode=np.int64(45), count=np.int64(60))"
      ]
     },
     "execution_count": 10,
     "metadata": {},
     "output_type": "execute_result"
    }
   ],
   "source": [
    "# get mode of worex\n",
    "stats.mode(education[\"workex\"])\n",
    "#or\n",
    "stats.mode(education.workex)"
   ]
  },
  {
   "cell_type": "code",
   "execution_count": 11,
   "id": "aa412455-9ca4-4ef4-ab7c-f4d71bf39d0f",
   "metadata": {},
   "outputs": [
    {
     "name": "stdout",
     "output_type": "stream",
     "text": [
      "variance 750.0378848306511\n",
      "27.386819545734973\n",
      "range 270\n"
     ]
    }
   ],
   "source": [
    "#second business moment \n",
    "print(\"variance\",education.workex.var())\n",
    "print(education.workex.std())\n",
    "range = max(education.workex)-min(education.workex)\n",
    "print(\"range\", range)"
   ]
  },
  {
   "cell_type": "code",
   "execution_count": 12,
   "id": "bb3f8794-e631-4b31-9154-f90db622a14c",
   "metadata": {},
   "outputs": [
    {
     "name": "stdout",
     "output_type": "stream",
     "text": [
      "Requirement already satisfied: matplotlib in c:\\users\\priya\\appdata\\local\\programs\\python\\python313\\lib\\site-packages (3.10.1)\n",
      "Requirement already satisfied: contourpy>=1.0.1 in c:\\users\\priya\\appdata\\local\\programs\\python\\python313\\lib\\site-packages (from matplotlib) (1.3.2)\n",
      "Requirement already satisfied: cycler>=0.10 in c:\\users\\priya\\appdata\\local\\programs\\python\\python313\\lib\\site-packages (from matplotlib) (0.12.1)\n",
      "Requirement already satisfied: fonttools>=4.22.0 in c:\\users\\priya\\appdata\\local\\programs\\python\\python313\\lib\\site-packages (from matplotlib) (4.57.0)\n",
      "Requirement already satisfied: kiwisolver>=1.3.1 in c:\\users\\priya\\appdata\\local\\programs\\python\\python313\\lib\\site-packages (from matplotlib) (1.4.8)\n",
      "Requirement already satisfied: numpy>=1.23 in c:\\users\\priya\\appdata\\local\\programs\\python\\python313\\lib\\site-packages (from matplotlib) (2.2.4)\n",
      "Requirement already satisfied: packaging>=20.0 in c:\\users\\priya\\appdata\\local\\programs\\python\\python313\\lib\\site-packages (from matplotlib) (24.2)\n",
      "Requirement already satisfied: pillow>=8 in c:\\users\\priya\\appdata\\local\\programs\\python\\python313\\lib\\site-packages (from matplotlib) (11.2.1)\n",
      "Requirement already satisfied: pyparsing>=2.3.1 in c:\\users\\priya\\appdata\\local\\programs\\python\\python313\\lib\\site-packages (from matplotlib) (3.2.3)\n",
      "Requirement already satisfied: python-dateutil>=2.7 in c:\\users\\priya\\appdata\\local\\programs\\python\\python313\\lib\\site-packages (from matplotlib) (2.9.0.post0)\n",
      "Requirement already satisfied: six>=1.5 in c:\\users\\priya\\appdata\\local\\programs\\python\\python313\\lib\\site-packages (from python-dateutil>=2.7->matplotlib) (1.17.0)\n"
     ]
    },
    {
     "name": "stderr",
     "output_type": "stream",
     "text": [
      "\n",
      "[notice] A new release of pip is available: 24.3.1 -> 25.0.1\n",
      "[notice] To update, run: python.exe -m pip install --upgrade pip\n"
     ]
    }
   ],
   "source": [
    "!pip install matplotlib\n"
   ]
  },
  {
   "cell_type": "code",
   "execution_count": 13,
   "id": "3d3747f7-e23c-43e1-aaa4-5b09170c7849",
   "metadata": {},
   "outputs": [],
   "source": [
    "# create bar plot for know skewness diagram\n",
    "\n",
    "import matplotlib.pyplot as plt\n",
    "import numpy as np\n"
   ]
  },
  {
   "cell_type": "code",
   "execution_count": 14,
   "id": "0bd90e6d-a2fa-4c24-bf3e-9bd0838dac2c",
   "metadata": {},
   "outputs": [
    {
     "data": {
      "text/plain": [
       "<BarContainer object of 773 artists>"
      ]
     },
     "execution_count": 14,
     "metadata": {},
     "output_type": "execute_result"
    },
    {
     "data": {
      "image/png": "[encoded data removed]",
      "text/plain": [
       "<Figure size 640x480 with 1 Axes>"
      ]
     },
     "metadata": {},
     "output_type": "display_data"
    }
   ],
   "source": [
    "plt.bar(height = education.gmat, x = np.arange(1,774,1))"
   ]
  },
  {
   "cell_type": "code",
   "execution_count": 15,
   "id": "2de9d479-398d-436d-ba54-51d3caf1981e",
   "metadata": {},
   "outputs": [
    {
     "data": {
      "text/plain": [
       "(array([156., 368., 172.,  49.,  22.,   0.,   2.,   1.,   1.,   2.]),\n",
       " array([  9.,  36.,  63.,  90., 117., 144., 171., 198., 225., 252., 279.]),\n",
       " <BarContainer object of 10 artists>)"
      ]
     },
     "execution_count": 15,
     "metadata": {},
     "output_type": "execute_result"
    },
    {
     "data": {
      "image/png": "[encoded data removed]",
      "text/plain": [
       "<Figure size 640x480 with 1 Axes>"
      ]
     },
     "metadata": {},
     "output_type": "display_data"
    }
   ],
   "source": [
    "plt.hist(education.workex)\n"
   ]
  },
  {
   "cell_type": "code",
   "execution_count": 16,
   "id": "6f698ece-0f15-412e-a7d6-d4436d120beb",
   "metadata": {},
   "outputs": [
    {
     "data": {
      "text/plain": [
       "(array([  6.,   9.,  20.,  30.,  54., 143., 282., 143.,  67.,  19.]),\n",
       " array([600., 618., 636., 654., 672., 690., 708., 726., 744., 762., 780.]),\n",
       " <BarContainer object of 10 artists>)"
      ]
     },
     "execution_count": 16,
     "metadata": {},
     "output_type": "execute_result"
    },
    {
     "data": {
      "image/png": "[encoded data removed]",
      "text/plain": [
       "<Figure size 640x480 with 1 Axes>"
      ]
     },
     "metadata": {},
     "output_type": "display_data"
    }
   ],
   "source": [
    "plt.hist(education.gmat)"
   ]
  },
  {
   "cell_type": "code",
   "execution_count": 17,
   "id": "d88391d5-38d9-40fa-9633-2d3ef20a99f6",
   "metadata": {},
   "outputs": [
    {
     "name": "stdout",
     "output_type": "stream",
     "text": [
      "2.6085365678230614\n",
      "-0.5954765248452923\n"
     ]
    }
   ],
   "source": [
    "#third moment bussiness decision\n",
    "print(education.workex.skew())\n",
    "print(education.gmat.skew())\n"
   ]
  },
  {
   "cell_type": "code",
   "execution_count": null,
   "id": "f2932e00-ef3b-4120-b184-1802a5465858",
   "metadata": {},
   "outputs": [],
   "source": [
    "# workex is right or positively skewd with big madnitude ...so we understand data is non normal, \n",
    "#in the case of gmat data is negatively or left skewd but near to normal distribution"
   ]
  },
  {
   "cell_type": "code",
   "execution_count": 18,
   "id": "88d975ab-1bca-4a37-917f-a6a225e950f1",
   "metadata": {},
   "outputs": [
    {
     "data": {
      "text/plain": [
       "np.float64(13.404731601273921)"
      ]
     },
     "execution_count": 18,
     "metadata": {},
     "output_type": "execute_result"
    }
   ],
   "source": [
    "# fourth moment business decision\n",
    "education.workex.kurt()"
   ]
  },
  {
   "cell_type": "code",
   "execution_count": 22,
   "id": "f8eee074-0dcc-45af-a61d-1d5f62ed5dee",
   "metadata": {},
   "outputs": [
    {
     "name": "stdout",
     "output_type": "stream",
     "text": [
      "{'whiskers': [<matplotlib.lines.Line2D object at 0x0000024D0188E490>, <matplotlib.lines.Line2D object at 0x0000024D0188E5D0>], 'caps': [<matplotlib.lines.Line2D object at 0x0000024D0188E710>, <matplotlib.lines.Line2D object at 0x0000024D0188E850>], 'boxes': [<matplotlib.lines.Line2D object at 0x0000024D0188E350>], 'medians': [<matplotlib.lines.Line2D object at 0x0000024D0188E990>], 'fliers': [<matplotlib.lines.Line2D object at 0x0000024D0188EAD0>], 'means': []}\n"
     ]
    },
    {
     "data": {
      "image/png": "[encoded data removed]",
      "text/plain": [
       "<Figure size 640x480 with 1 Axes>"
      ]
     },
     "metadata": {},
     "output_type": "display_data"
    }
   ],
   "source": [
    "# create boxplot to know for outliers\n",
    "print(plt.boxplot(education.gmat))"
   ]
  },
  {
   "cell_type": "code",
   "execution_count": null,
   "id": "60871f70-1ca4-477e-8e23-fa59b80d8e68",
   "metadata": {},
   "outputs": [],
   "source": [
    "# by looking the plot there are some outliers , need to perform data pre processing to remove them"
   ]
  }
 ],
 "metadata": {
  "kernelspec": {
   "display_name": "Python 3 (ipykernel)",
   "language": "python",
   "name": "python3"
  },
  "language_info": {
   "codemirror_mode": {
    "name": "ipython",
    "version": 3
   },
   "file_extension": ".py",
   "mimetype": "text/x-python",
   "name": "python",
   "nbconvert_exporter": "python",
   "pygments_lexer": "ipython3",
   "version": "3.13.2"
  }
 },
 "nbformat": 4,
 "nbformat_minor": 5
}
